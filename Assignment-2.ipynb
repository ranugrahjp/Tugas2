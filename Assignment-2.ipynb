{
 "cells": [
  {
   "cell_type": "code",
   "execution_count": 8,
   "id": "bebb15f3",
   "metadata": {},
   "outputs": [
    {
     "name": "stdout",
     "output_type": "stream",
     "text": [
      "Halo, Selamat Datang!\n",
      "\n",
      "\n",
      "---Menu---\n",
      "1. Daftar Kontak\n",
      "2.Tambah Kontak\n",
      "3.Keluar\n",
      "\n",
      "Pilih Menu:4\n",
      "Menu tidak tersedia\n"
     ]
    }
   ],
   "source": [
    "kontak_dictionary = { #dictionary untuk menampung kontak\n",
    "    \"ridho\" : \"081298765432\",\n",
    "    \"budi\" : \"082345678901\"\n",
    "}\n",
    "def daftarKontak():\n",
    "    print(\"\\nDaftar Kontak : \\n\")\n",
    "    for x in kontak_dictionary :\n",
    "        print(\"Nama : \",x) #mengambil key dari kontak_dictionary\n",
    "        print(\"No.HP : \", kontak_dictionary[x]) #mengambil value dari kontak_dictionary\n",
    "def tambahKontak():\n",
    "    nama = input(\"\\nMasukkan Nama Anda : \")\n",
    "    no_hp = input(\"Masukkan No. HP :\")\n",
    "    kontak_dictionary[nama] : no_hp #https://jagongoding.com/python/dasar/dictionary/\n",
    "    print(\"Kontak Berhasil Ditambahkan\")\n",
    "    \n",
    "print(\"Halo, Selamat Datang!\") #ucapan Selamat Datang\n",
    "print(\"\\n\\n---Menu---\\n1. Daftar Kontak\\n2.Tambah Kontak\\n3.Keluar\\n\") #daftar menu\n",
    "\n",
    "menu = int(input(\"Pilih Menu:\"))\n",
    "\n",
    "if menu == 1: #menu 1\n",
    "    daftarKontak()\n",
    "elif menu ==2: #menu 2\n",
    "    tambahKontak()\n",
    "elif menu == 3: #menu 3\n",
    "    print(\"Program selesai, sampai jumpa!\")\n",
    "else:\n",
    "    print(\"Menu tidak tersedia\")"
   ]
  },
  {
   "cell_type": "code",
   "execution_count": null,
   "id": "30c5b470",
   "metadata": {},
   "outputs": [],
   "source": []
  }
 ],
 "metadata": {
  "kernelspec": {
   "display_name": "Python 3 (ipykernel)",
   "language": "python",
   "name": "python3"
  },
  "language_info": {
   "codemirror_mode": {
    "name": "ipython",
    "version": 3
   },
   "file_extension": ".py",
   "mimetype": "text/x-python",
   "name": "python",
   "nbconvert_exporter": "python",
   "pygments_lexer": "ipython3",
   "version": "3.10.5"
  }
 },
 "nbformat": 4,
 "nbformat_minor": 5
}
